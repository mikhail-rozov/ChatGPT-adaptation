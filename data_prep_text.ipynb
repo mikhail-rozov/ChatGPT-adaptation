{
 "cells": [
  {
   "cell_type": "code",
   "execution_count": 1,
   "id": "3ce01d69-62b7-4b0b-aa86-c795e2438f56",
   "metadata": {},
   "outputs": [],
   "source": [
    "from dotenv import load_dotenv, find_dotenv\n",
    "from langchain.document_loaders import Docx2txtLoader\n",
    "from langchain.embeddings.openai import OpenAIEmbeddings\n",
    "from langchain.text_splitter import CharacterTextSplitter\n",
    "from langchain.vectorstores import Chroma\n",
    "import tiktoken"
   ]
  },
  {
   "cell_type": "code",
   "execution_count": 2,
   "id": "f568b95e-9ce7-4b39-addc-21d84c75edd5",
   "metadata": {},
   "outputs": [
    {
     "data": {
      "text/plain": [
       "True"
      ]
     },
     "execution_count": 2,
     "metadata": {},
     "output_type": "execute_result"
    }
   ],
   "source": [
    "load_dotenv(find_dotenv())"
   ]
  },
  {
   "cell_type": "code",
   "execution_count": 3,
   "id": "81479f12-2c42-4bc8-8ae0-0459a2edcb02",
   "metadata": {},
   "outputs": [],
   "source": [
    "loader = Docx2txtLoader('./data/Excerpt.docx')\n",
    "documents = loader.load()"
   ]
  },
  {
   "cell_type": "code",
   "execution_count": 4,
   "id": "ee46038e-bc2e-4650-8901-a781d526f819",
   "metadata": {},
   "outputs": [],
   "source": [
    "tokenizer = tiktoken.get_encoding('cl100k_base')"
   ]
  },
  {
   "cell_type": "code",
   "execution_count": 5,
   "id": "600a63df-aa62-4337-b51c-9b28aed902f2",
   "metadata": {},
   "outputs": [],
   "source": [
    "def tiktoken_len(text):\n",
    "    tokens = tokenizer.encode(\n",
    "        text,\n",
    "        disallowed_special=()\n",
    "    )\n",
    "    return len(tokens)"
   ]
  },
  {
   "cell_type": "code",
   "execution_count": 6,
   "id": "10cfee00-d232-4f30-826d-e3df66d72335",
   "metadata": {},
   "outputs": [
    {
     "name": "stderr",
     "output_type": "stream",
     "text": [
      "Created a chunk of size 347, which is longer than the specified 200\n",
      "Created a chunk of size 839, which is longer than the specified 200\n",
      "Created a chunk of size 344, which is longer than the specified 200\n",
      "Created a chunk of size 378, which is longer than the specified 200\n",
      "Created a chunk of size 425, which is longer than the specified 200\n",
      "Created a chunk of size 662, which is longer than the specified 200\n",
      "Created a chunk of size 1137, which is longer than the specified 200\n",
      "Created a chunk of size 1124, which is longer than the specified 200\n",
      "Created a chunk of size 315, which is longer than the specified 200\n",
      "Created a chunk of size 243, which is longer than the specified 200\n",
      "Created a chunk of size 608, which is longer than the specified 200\n",
      "Created a chunk of size 282, which is longer than the specified 200\n",
      "Created a chunk of size 341, which is longer than the specified 200\n",
      "Created a chunk of size 521, which is longer than the specified 200\n",
      "Created a chunk of size 497, which is longer than the specified 200\n",
      "Created a chunk of size 622, which is longer than the specified 200\n",
      "Created a chunk of size 456, which is longer than the specified 200\n",
      "Created a chunk of size 837, which is longer than the specified 200\n",
      "Created a chunk of size 745, which is longer than the specified 200\n",
      "Created a chunk of size 900, which is longer than the specified 200\n",
      "Created a chunk of size 362, which is longer than the specified 200\n",
      "Created a chunk of size 479, which is longer than the specified 200\n",
      "Created a chunk of size 987, which is longer than the specified 200\n",
      "Created a chunk of size 763, which is longer than the specified 200\n",
      "Created a chunk of size 320, which is longer than the specified 200\n",
      "Created a chunk of size 434, which is longer than the specified 200\n",
      "Created a chunk of size 576, which is longer than the specified 200\n",
      "Created a chunk of size 437, which is longer than the specified 200\n",
      "Created a chunk of size 455, which is longer than the specified 200\n",
      "Created a chunk of size 336, which is longer than the specified 200\n",
      "Created a chunk of size 537, which is longer than the specified 200\n",
      "Created a chunk of size 340, which is longer than the specified 200\n",
      "Created a chunk of size 464, which is longer than the specified 200\n"
     ]
    }
   ],
   "source": [
    "text_splitter = CharacterTextSplitter(\n",
    "    chunk_size=200,\n",
    "    separator='<<<<>>>>',\n",
    "    length_function=tiktoken_len,\n",
    "    keep_separator=False\n",
    ")\n",
    "\n",
    "docs = text_splitter.split_documents(documents)"
   ]
  },
  {
   "cell_type": "code",
   "execution_count": 7,
   "id": "5b1749a6-d7a7-492f-86b6-6b0ba593a300",
   "metadata": {},
   "outputs": [],
   "source": [
    "embeddings = OpenAIEmbeddings()\n",
    "\n",
    "persist_directory = './data/db'\n",
    "vector_store = Chroma.from_documents(docs, embeddings, persist_directory=persist_directory)"
   ]
  }
 ],
 "metadata": {
  "kernelspec": {
   "display_name": "Python 3 (ipykernel)",
   "language": "python",
   "name": "python3"
  },
  "language_info": {
   "codemirror_mode": {
    "name": "ipython",
    "version": 3
   },
   "file_extension": ".py",
   "mimetype": "text/x-python",
   "name": "python",
   "nbconvert_exporter": "python",
   "pygments_lexer": "ipython3",
   "version": "3.11.2"
  }
 },
 "nbformat": 4,
 "nbformat_minor": 5
}
